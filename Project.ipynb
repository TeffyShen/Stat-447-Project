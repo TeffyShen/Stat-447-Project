{
 "cells": [
  {
   "cell_type": "markdown",
   "id": "0402e8bf-8198-463d-89c8-3b1e55b8820f",
   "metadata": {},
   "source": [
    "## Project: Bayesian Structural Time Series Model for Stock Prediction"
   ]
  },
  {
   "cell_type": "markdown",
   "id": "637736bf-4022-4442-bf0c-71b49b08141c",
   "metadata": {},
   "source": [
    "#### Team Members:\n",
    "- Asteria Xu (56376452)\n",
    "- Yufei Shen (29116514)"
   ]
  },
  {
   "cell_type": "code",
   "execution_count": null,
   "id": "f033249e-719a-4a08-9069-f9d12d6045be",
   "metadata": {},
   "outputs": [],
   "source": [
    "library(dplyr)\n",
    "library(readr)\n",
    "library(lubridate)\n",
    "library(bsts)\n",
    "library(forecast)\n",
    "library(ggplot2)\n",
    "library(PerformanceAnalytics)"
   ]
  },
  {
   "cell_type": "code",
   "execution_count": null,
   "id": "3a736a65-356d-4aca-8d45-7606d3940f71",
   "metadata": {},
   "outputs": [],
   "source": [
    "# Load and preprocess data\n",
    "tsla <- read_csv(\"TSLA.csv\") %>%\n",
    "  mutate(Date = as_date(Date),\n",
    "         Close = as.numeric(Close)) %>%\n",
    "  filter(Date >= max(Date) - months(18)) %>%\n",
    "  arrange(Date)\n",
    "\n",
    "y <- tsla$Close\n",
    "dates <- tsla$Date"
   ]
  },
  {
   "cell_type": "code",
   "execution_count": null,
   "id": "eb311df0-924c-429a-9d15-2a60174d41bf",
   "metadata": {},
   "outputs": [],
   "source": [
    "# Create train and test data\n",
    "train_size <- floor(0.8 * length(y))\n",
    "train <- window(ts(y), end = train_size)\n",
    "test <- window(ts(y), start = train_size + 1)"
   ]
  },
  {
   "cell_type": "code",
   "execution_count": null,
   "id": "ff616c3e-067f-4aae-bcac-26056845efd8",
   "metadata": {},
   "outputs": [],
   "source": [
    "# ARIMA Model\n",
    "arima_model <- auto.arima(train, stepwise = FALSE, approximation = FALSE)\n",
    "arima_pred <- forecast(arima_model, h = length(test))"
   ]
  },
  {
   "cell_type": "code",
   "execution_count": null,
   "id": "2eddd5d1-8991-4634-96b8-0ac0f0f0790a",
   "metadata": {},
   "outputs": [],
   "source": [
    "# BSTS Model\n",
    "ss <- AddLocalLinearTrend(list(), train)\n",
    "ss <- AddSeasonal(ss, train, nseasons = 252)\n",
    "bsts_model <- bsts(train, state.specification = ss, niter = 1000, ping = 0)\n",
    "bsts_pred <- predict(bsts_model, horizon = length(test), burn = 100)"
   ]
  },
  {
   "cell_type": "code",
   "execution_count": null,
   "id": "aa5e8ca2-093c-4adb-be49-cb178d892e49",
   "metadata": {},
   "outputs": [],
   "source": [
    "# Evaluation Metrics\n",
    "calculate_metrics <- function(pred, actual, model_type = \"arima\") {\n",
    "  if (model_type == \"arima\") {\n",
    "    pred_mean <- as.numeric(pred$mean)\n",
    "    lower <- as.numeric(pred$lower[, \"95%\"])\n",
    "    upper <- as.numeric(pred$upper[, \"95%\"])\n",
    "  } else { \n",
    "    pred_mean <- as.numeric(pred$mean)\n",
    "    lower <- as.numeric(pred$interval[1,])\n",
    "    upper <- as.numeric(pred$interval[2,])\n",
    "  }\n",
    "  \n",
    "  list(\n",
    "    MAE = mean(abs(pred_mean - actual)),\n",
    "    RMSE = sqrt(mean((pred_mean - actual)^2)),\n",
    "    Coverage = mean(actual >= lower & actual <= upper)\n",
    "  )\n",
    "}\n",
    "\n",
    "arima_metrics <- calculate_metrics(arima_pred, test, \"arima\")\n",
    "bsts_metrics <- calculate_metrics(bsts_pred, test, \"bsts\")"
   ]
  },
  {
   "cell_type": "code",
   "execution_count": null,
   "id": "af923892-eb62-42bd-b1de-e3f0c06c9e17",
   "metadata": {},
   "outputs": [],
   "source": [
    "# Results Comparison\n",
    "results <- data.frame(\n",
    "  Model = c(\"BSTS\", \"ARIMA\"),\n",
    "  MAE = c(bsts_metrics$MAE, arima_metrics$MAE),\n",
    "  RMSE = c(bsts_metrics$RMSE, arima_metrics$RMSE),\n",
    "  Coverage = c(bsts_metrics$Coverage, arima_metrics$Coverage)\n",
    ")\n",
    "print(results)"
   ]
  },
  {
   "cell_type": "code",
   "execution_count": null,
   "id": "eaeb85af-0a18-40e9-8134-2cf051fb1965",
   "metadata": {},
   "outputs": [],
   "source": [
    "# Create a time series object for the full data\n",
    "full_ts <- ts(y, start = start(train), frequency = frequency(train))"
   ]
  },
  {
   "cell_type": "code",
   "execution_count": null,
   "id": "bda7e434-f5eb-493c-bbc4-b54c018bafe8",
   "metadata": {},
   "outputs": [],
   "source": [
    "# Convert predictions to time series objects with proper time indices\n",
    "arima_pred_ts <- ts(arima_pred$mean,\n",
    "                    start = end(train) + c(0, 1),\n",
    "                    frequency = frequency(train))\n",
    "\n",
    "bsts_pred_ts <- ts(bsts_pred$mean, \n",
    "                   start = end(train) + c(0, 1), \n",
    "                   frequency = frequency(train))"
   ]
  },
  {
   "cell_type": "code",
   "execution_count": null,
   "id": "0f03cfaa-dd1f-4014-b80b-c8eabf3a754c",
   "metadata": {},
   "outputs": [],
   "source": [
    "# Create the plot\n",
    "autoplot(full_ts) +\n",
    "  autolayer(arima_pred_ts, series = \"ARIMA\") +\n",
    "  autolayer(bsts_pred_ts, series = \"BSTS\") +\n",
    "  xlab(\"Date\") + ylab(\"Price\") +\n",
    "  ggtitle(\"TSLA Closing Price Forecast Comparison\") +\n",
    "  scale_color_manual(values = c(\"ARIMA\" = \"red\", \"BSTS\" = \"blue\"))"
   ]
  }
 ],
 "metadata": {
  "kernelspec": {
   "display_name": "R",
   "language": "R",
   "name": "ir"
  },
  "language_info": {
   "codemirror_mode": "r",
   "file_extension": ".r",
   "mimetype": "text/x-r-source",
   "name": "R",
   "pygments_lexer": "r",
   "version": "4.3.3"
  }
 },
 "nbformat": 4,
 "nbformat_minor": 5
}
