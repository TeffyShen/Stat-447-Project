{
 "cells": [
  {
   "cell_type": "markdown",
   "id": "cb54429c-ccd1-42af-8748-18babe157260",
   "metadata": {},
   "source": [
    "## Propsal: Bayesian Non-Parametric Models for Stock Prediction"
   ]
  },
  {
   "cell_type": "markdown",
   "id": "7fa24110-cdc7-442a-8c1b-620cf8c08c05",
   "metadata": {},
   "source": [
    "#### Team Members:\n",
    "- Asteria Xu (56376452)\n",
    "- Yufei Shen (29116514)"
   ]
  },
  {
   "cell_type": "code",
   "execution_count": null,
   "id": "4eef3c23-b943-4c0c-8d6c-3a5846aeb441",
   "metadata": {},
   "outputs": [],
   "source": []
  }
 ],
 "metadata": {
  "kernelspec": {
   "display_name": "R",
   "language": "R",
   "name": "ir"
  },
  "language_info": {
   "codemirror_mode": "r",
   "file_extension": ".r",
   "mimetype": "text/x-r-source",
   "name": "R",
   "pygments_lexer": "r",
   "version": "4.4.1"
  }
 },
 "nbformat": 4,
 "nbformat_minor": 5
}
