{
 "cells": [
  {
   "cell_type": "markdown",
   "id": "cb54429c-ccd1-42af-8748-18babe157260",
   "metadata": {},
   "source": [
    "## Propsal: Bayesian Non-Parametric Models for Stock Prediction"
   ]
  },
  {
   "cell_type": "markdown",
   "id": "7fa24110-cdc7-442a-8c1b-620cf8c08c05",
   "metadata": {},
   "source": [
    "#### Team Members:\n",
    "- Asteria Xu (56376452)\n",
    "- Yufei Shen (29116514)"
   ]
  },
  {
   "cell_type": "code",
   "execution_count": null,
   "id": "4eef3c23-b943-4c0c-8d6c-3a5846aeb441",
   "metadata": {},
   "outputs": [],
   "source": []
  },
  {
   "cell_type": "markdown",
   "id": "b908cf76-2a1a-469f-90a3-3f9a1bbbc7ba",
   "metadata": {},
   "source": [
    "#### Datasets:"
   ]
  },
  {
   "cell_type": "markdown",
   "id": "d2278358-2ac4-4d63-91d9-851315762f29",
   "metadata": {},
   "source": [
    "-S&P 500 stock data: https://www.kaggle.com/datasets/camnugent/sandp500/data\n",
    "\n",
    "-TESLA Stock Data: https://www.kaggle.com/datasets/varpit94/tesla-stock-data-updated-till-28jun2021"
   ]
  },
  {
   "cell_type": "code",
   "execution_count": 1,
   "id": "8eed7493-1b61-4722-b8f8-6fb63dfe5cd9",
   "metadata": {},
   "outputs": [
    {
     "name": "stderr",
     "output_type": "stream",
     "text": [
      "\u001b[1mRows: \u001b[22m\u001b[34m619040\u001b[39m \u001b[1mColumns: \u001b[22m\u001b[34m7\u001b[39m\n",
      "\u001b[36m──\u001b[39m \u001b[1mColumn specification\u001b[22m \u001b[36m────────────────────────────────────────────────────────\u001b[39m\n",
      "\u001b[1mDelimiter:\u001b[22m \",\"\n",
      "\u001b[31mchr\u001b[39m  (1): Name\n",
      "\u001b[32mdbl\u001b[39m  (5): open, high, low, close, volume\n",
      "\u001b[34mdate\u001b[39m (1): date\n",
      "\n",
      "\u001b[36mℹ\u001b[39m Use `spec()` to retrieve the full column specification for this data.\n",
      "\u001b[36mℹ\u001b[39m Specify the column types or set `show_col_types = FALSE` to quiet this message.\n",
      "\u001b[1mRows: \u001b[22m\u001b[34m2956\u001b[39m \u001b[1mColumns: \u001b[22m\u001b[34m7\u001b[39m\n",
      "\u001b[36m──\u001b[39m \u001b[1mColumn specification\u001b[22m \u001b[36m────────────────────────────────────────────────────────\u001b[39m\n",
      "\u001b[1mDelimiter:\u001b[22m \",\"\n",
      "\u001b[32mdbl\u001b[39m  (6): Open, High, Low, Close, Adj Close, Volume\n",
      "\u001b[34mdate\u001b[39m (1): Date\n",
      "\n",
      "\u001b[36mℹ\u001b[39m Use `spec()` to retrieve the full column specification for this data.\n",
      "\u001b[36mℹ\u001b[39m Specify the column types or set `show_col_types = FALSE` to quiet this message.\n"
     ]
    }
   ],
   "source": [
    "library(readr)\n",
    "# Read S&P 500 dataset\n",
    "sp500_data <- read_csv(\"all_stocks_5yr.csv\")\n",
    "\n",
    "# Read Tesla dataset\n",
    "tesla_data <- read_csv(\"TSLA.csv\")"
   ]
  },
  {
   "cell_type": "code",
   "execution_count": 2,
   "id": "16ba5dce-381f-4682-956b-bcedea156123",
   "metadata": {},
   "outputs": [
    {
     "data": {
      "text/html": [
       "<table class=\"dataframe\">\n",
       "<caption>A tibble: 6 × 7</caption>\n",
       "<thead>\n",
       "\t<tr><th scope=col>date</th><th scope=col>open</th><th scope=col>high</th><th scope=col>low</th><th scope=col>close</th><th scope=col>volume</th><th scope=col>Name</th></tr>\n",
       "\t<tr><th scope=col>&lt;date&gt;</th><th scope=col>&lt;dbl&gt;</th><th scope=col>&lt;dbl&gt;</th><th scope=col>&lt;dbl&gt;</th><th scope=col>&lt;dbl&gt;</th><th scope=col>&lt;dbl&gt;</th><th scope=col>&lt;chr&gt;</th></tr>\n",
       "</thead>\n",
       "<tbody>\n",
       "\t<tr><td>2013-02-08</td><td>15.07</td><td>15.12</td><td>14.63</td><td>14.75</td><td> 8407500</td><td>AAL</td></tr>\n",
       "\t<tr><td>2013-02-11</td><td>14.89</td><td>15.01</td><td>14.26</td><td>14.46</td><td> 8882000</td><td>AAL</td></tr>\n",
       "\t<tr><td>2013-02-12</td><td>14.45</td><td>14.51</td><td>14.10</td><td>14.27</td><td> 8126000</td><td>AAL</td></tr>\n",
       "\t<tr><td>2013-02-13</td><td>14.30</td><td>14.94</td><td>14.25</td><td>14.66</td><td>10259500</td><td>AAL</td></tr>\n",
       "\t<tr><td>2013-02-14</td><td>14.94</td><td>14.96</td><td>13.16</td><td>13.99</td><td>31879900</td><td>AAL</td></tr>\n",
       "\t<tr><td>2013-02-15</td><td>13.93</td><td>14.61</td><td>13.93</td><td>14.50</td><td>15628000</td><td>AAL</td></tr>\n",
       "</tbody>\n",
       "</table>\n"
      ],
      "text/latex": [
       "A tibble: 6 × 7\n",
       "\\begin{tabular}{lllllll}\n",
       " date & open & high & low & close & volume & Name\\\\\n",
       " <date> & <dbl> & <dbl> & <dbl> & <dbl> & <dbl> & <chr>\\\\\n",
       "\\hline\n",
       "\t 2013-02-08 & 15.07 & 15.12 & 14.63 & 14.75 &  8407500 & AAL\\\\\n",
       "\t 2013-02-11 & 14.89 & 15.01 & 14.26 & 14.46 &  8882000 & AAL\\\\\n",
       "\t 2013-02-12 & 14.45 & 14.51 & 14.10 & 14.27 &  8126000 & AAL\\\\\n",
       "\t 2013-02-13 & 14.30 & 14.94 & 14.25 & 14.66 & 10259500 & AAL\\\\\n",
       "\t 2013-02-14 & 14.94 & 14.96 & 13.16 & 13.99 & 31879900 & AAL\\\\\n",
       "\t 2013-02-15 & 13.93 & 14.61 & 13.93 & 14.50 & 15628000 & AAL\\\\\n",
       "\\end{tabular}\n"
      ],
      "text/markdown": [
       "\n",
       "A tibble: 6 × 7\n",
       "\n",
       "| date &lt;date&gt; | open &lt;dbl&gt; | high &lt;dbl&gt; | low &lt;dbl&gt; | close &lt;dbl&gt; | volume &lt;dbl&gt; | Name &lt;chr&gt; |\n",
       "|---|---|---|---|---|---|---|\n",
       "| 2013-02-08 | 15.07 | 15.12 | 14.63 | 14.75 |  8407500 | AAL |\n",
       "| 2013-02-11 | 14.89 | 15.01 | 14.26 | 14.46 |  8882000 | AAL |\n",
       "| 2013-02-12 | 14.45 | 14.51 | 14.10 | 14.27 |  8126000 | AAL |\n",
       "| 2013-02-13 | 14.30 | 14.94 | 14.25 | 14.66 | 10259500 | AAL |\n",
       "| 2013-02-14 | 14.94 | 14.96 | 13.16 | 13.99 | 31879900 | AAL |\n",
       "| 2013-02-15 | 13.93 | 14.61 | 13.93 | 14.50 | 15628000 | AAL |\n",
       "\n"
      ],
      "text/plain": [
       "  date       open  high  low   close volume   Name\n",
       "1 2013-02-08 15.07 15.12 14.63 14.75  8407500 AAL \n",
       "2 2013-02-11 14.89 15.01 14.26 14.46  8882000 AAL \n",
       "3 2013-02-12 14.45 14.51 14.10 14.27  8126000 AAL \n",
       "4 2013-02-13 14.30 14.94 14.25 14.66 10259500 AAL \n",
       "5 2013-02-14 14.94 14.96 13.16 13.99 31879900 AAL \n",
       "6 2013-02-15 13.93 14.61 13.93 14.50 15628000 AAL "
      ]
     },
     "metadata": {},
     "output_type": "display_data"
    },
    {
     "data": {
      "text/html": [
       "<table class=\"dataframe\">\n",
       "<caption>A tibble: 6 × 7</caption>\n",
       "<thead>\n",
       "\t<tr><th scope=col>Date</th><th scope=col>Open</th><th scope=col>High</th><th scope=col>Low</th><th scope=col>Close</th><th scope=col>Adj Close</th><th scope=col>Volume</th></tr>\n",
       "\t<tr><th scope=col>&lt;date&gt;</th><th scope=col>&lt;dbl&gt;</th><th scope=col>&lt;dbl&gt;</th><th scope=col>&lt;dbl&gt;</th><th scope=col>&lt;dbl&gt;</th><th scope=col>&lt;dbl&gt;</th><th scope=col>&lt;dbl&gt;</th></tr>\n",
       "</thead>\n",
       "<tbody>\n",
       "\t<tr><td>2010-06-29</td><td>3.800</td><td>5.000</td><td>3.508</td><td>4.778</td><td>4.778</td><td>93831500</td></tr>\n",
       "\t<tr><td>2010-06-30</td><td>5.158</td><td>6.084</td><td>4.660</td><td>4.766</td><td>4.766</td><td>85935500</td></tr>\n",
       "\t<tr><td>2010-07-01</td><td>5.000</td><td>5.184</td><td>4.054</td><td>4.392</td><td>4.392</td><td>41094000</td></tr>\n",
       "\t<tr><td>2010-07-02</td><td>4.600</td><td>4.620</td><td>3.742</td><td>3.840</td><td>3.840</td><td>25699000</td></tr>\n",
       "\t<tr><td>2010-07-06</td><td>4.000</td><td>4.000</td><td>3.166</td><td>3.222</td><td>3.222</td><td>34334500</td></tr>\n",
       "\t<tr><td>2010-07-07</td><td>3.280</td><td>3.326</td><td>2.996</td><td>3.160</td><td>3.160</td><td>34608500</td></tr>\n",
       "</tbody>\n",
       "</table>\n"
      ],
      "text/latex": [
       "A tibble: 6 × 7\n",
       "\\begin{tabular}{lllllll}\n",
       " Date & Open & High & Low & Close & Adj Close & Volume\\\\\n",
       " <date> & <dbl> & <dbl> & <dbl> & <dbl> & <dbl> & <dbl>\\\\\n",
       "\\hline\n",
       "\t 2010-06-29 & 3.800 & 5.000 & 3.508 & 4.778 & 4.778 & 93831500\\\\\n",
       "\t 2010-06-30 & 5.158 & 6.084 & 4.660 & 4.766 & 4.766 & 85935500\\\\\n",
       "\t 2010-07-01 & 5.000 & 5.184 & 4.054 & 4.392 & 4.392 & 41094000\\\\\n",
       "\t 2010-07-02 & 4.600 & 4.620 & 3.742 & 3.840 & 3.840 & 25699000\\\\\n",
       "\t 2010-07-06 & 4.000 & 4.000 & 3.166 & 3.222 & 3.222 & 34334500\\\\\n",
       "\t 2010-07-07 & 3.280 & 3.326 & 2.996 & 3.160 & 3.160 & 34608500\\\\\n",
       "\\end{tabular}\n"
      ],
      "text/markdown": [
       "\n",
       "A tibble: 6 × 7\n",
       "\n",
       "| Date &lt;date&gt; | Open &lt;dbl&gt; | High &lt;dbl&gt; | Low &lt;dbl&gt; | Close &lt;dbl&gt; | Adj Close &lt;dbl&gt; | Volume &lt;dbl&gt; |\n",
       "|---|---|---|---|---|---|---|\n",
       "| 2010-06-29 | 3.800 | 5.000 | 3.508 | 4.778 | 4.778 | 93831500 |\n",
       "| 2010-06-30 | 5.158 | 6.084 | 4.660 | 4.766 | 4.766 | 85935500 |\n",
       "| 2010-07-01 | 5.000 | 5.184 | 4.054 | 4.392 | 4.392 | 41094000 |\n",
       "| 2010-07-02 | 4.600 | 4.620 | 3.742 | 3.840 | 3.840 | 25699000 |\n",
       "| 2010-07-06 | 4.000 | 4.000 | 3.166 | 3.222 | 3.222 | 34334500 |\n",
       "| 2010-07-07 | 3.280 | 3.326 | 2.996 | 3.160 | 3.160 | 34608500 |\n",
       "\n"
      ],
      "text/plain": [
       "  Date       Open  High  Low   Close Adj Close Volume  \n",
       "1 2010-06-29 3.800 5.000 3.508 4.778 4.778     93831500\n",
       "2 2010-06-30 5.158 6.084 4.660 4.766 4.766     85935500\n",
       "3 2010-07-01 5.000 5.184 4.054 4.392 4.392     41094000\n",
       "4 2010-07-02 4.600 4.620 3.742 3.840 3.840     25699000\n",
       "5 2010-07-06 4.000 4.000 3.166 3.222 3.222     34334500\n",
       "6 2010-07-07 3.280 3.326 2.996 3.160 3.160     34608500"
      ]
     },
     "metadata": {},
     "output_type": "display_data"
    }
   ],
   "source": [
    "head(sp500_data)\n",
    "head(tesla_data)"
   ]
  },
  {
   "cell_type": "code",
   "execution_count": null,
   "id": "34ccd12c-82cc-4b05-a64c-5c5b7e13ca07",
   "metadata": {},
   "outputs": [],
   "source": []
  }
 ],
 "metadata": {
  "kernelspec": {
   "display_name": "R",
   "language": "R",
   "name": "ir"
  },
  "language_info": {
   "codemirror_mode": "r",
   "file_extension": ".r",
   "mimetype": "text/x-r-source",
   "name": "R",
   "pygments_lexer": "r",
   "version": "4.4.1"
  }
 },
 "nbformat": 4,
 "nbformat_minor": 5
}
