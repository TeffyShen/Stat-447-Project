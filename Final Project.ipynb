{
 "cells": [
  {
   "cell_type": "markdown",
   "id": "0402e8bf-8198-463d-89c8-3b1e55b8820f",
   "metadata": {},
   "source": [
    "## Bayesian Structural Time Series Model for Stock Price Prediction"
   ]
  },
  {
   "cell_type": "markdown",
   "id": "637736bf-4022-4442-bf0c-71b49b08141c",
   "metadata": {},
   "source": [
    "#### Team Members:\n",
    "- Asteria Xu (56376452)\n",
    "- Yufei Shen (29116514)"
   ]
  },
  {
   "cell_type": "markdown",
   "id": "2b42db05-1cac-4009-ad83-2442d51afe5d",
   "metadata": {},
   "source": [
    "#### Introduction:\n",
    "Financial time series forecasting plays an important role in supporting data-driven decision making for traders. Due to the inherent non-stationarity and volatility in financial markets, stock price prediction is one of the most challenging tasks in this area. In this project, we aim to forecast the closing price of TESLA using the TSLA stock dataset (https://www.kaggle.com/datasets/varpit94/tesla-stock-data-updated-till-28jun2021), which is obtained from Kaggle and contains 7 variables related to stock from 2010 to 2022. The stock is an ideal test case for assessing the flexibility and robustness of Bayesian methods versus frequentist methods.\n",
    "\n",
    "Our analysis will only focus on the most recent 12-month period to evaluate the short-term forecasting performance of  the Bayesian Structural Time Series (BSTS) model and the Autoregressive Integrated Moving Average (ARIMA) model. The ARIMA model is the cornerstone of classical time series analysis. It models time dependence through differencing and autocorrelation modelling, which is particularly effective for static processes. However, its linearity and constant variance assumptions can limit its effectiveness when applied to highly volatile financial data. On the other hand, the BSTS model employs a Bayesian state-space framework to decompose the observed series into latent components such as trend and seasonality effects, which is beneficial when combining prior knowledge and explicitly modeling uncertainty. It has been used in several real-world applications, including Google's forecasting tool, and is known for generating well-calibrated forecasts, even in the presence of model misspecification. This study contributes to the broader discussion of Bayesian and frequency methods in time series modeling by comparing the forecasting performance and uncertainty quantification of these two models in the dynamic real world. "
   ]
  },
  {
   "cell_type": "markdown",
   "id": "4596a970-384f-4008-a937-65cef126507f",
   "metadata": {},
   "source": [
    "#### Methods\n",
    "First, we will load and preprocess the data, including converting dates to proper `Date` objects and the closing prices to numeric format. The data will be sorted chronologically, and a 12-month window will be extracted for modeling. We will create a univariate time series object with daily frequency, assuming 252 trading days per year. We will then split the time series into training and testing sets, using the first 90% of the data for training (approximately 10 months) and the remaining 10% for testing (around 2 months).\n",
    "\n",
    "#### ARIMA:\n",
    "As a frequency benchmark, we will fit an ARIMA model using the `auto.arima()` function from the `forecast` package. The model is automatically selected by minimizing the AICc of different orders of the autoregressive, difference and moving average terms. We will disable stepwise selection and approximation for a more exhaustive search. Predictions for the test period will be generated, including 95% confidence intervals.\n",
    "\n",
    "#### BSTS (bsts package):\n",
    "Mis-specification can occur when omitting important structures (e.g., using only a trend when the data has weekly effects). In this case, we will fit another BSTS model using the `bsts` package. This model includes a local linear trend component and a seasonal component with 5 seasons to reflect weekly seasonality across a typical trading year. Priors for the level, slope and seasonal components will be specified using `SdPrior()` with a prior guess for the standard deviation set to 1 and a small sample size. The model is formulated below:\n",
    "\n",
    "y_t ~ N(µ_t , 2)\n",
    "\n",
    "µ_t = µ_(t-1) + β_(t-1) + η_t\n",
    "\n",
    "β_t = β_(t-1) + ε_t\n",
    "\n",
    "where y_t is the closing price, µ_t is the local level, and β_t is the local trend. The model will be estimated using MCMC sampling for 1,500 iterations, with the first 500 iterations discarded as burn-in. Forecasts for the test period will be obtained using the `predict` function, and the posterior distribution will include point estimates and 95% credible intervals.\n",
    "\n",
    "Finally, we will evaluate the models using three metrics: Mean Absolute Error (MAE), Root Mean Squared Error (RMSE) and coverage. For each model, predicted means and interval bounds will be extracted, and scores will be computed by comparing predictions to the test set. We will also visualize predicted series from BSTS and ARIMA against the full time series to compare model behavior, which will provide insight into how well each model captured recent trends and volatility in TSLA stock prices."
   ]
  },
  {
   "cell_type": "code",
   "execution_count": null,
   "id": "c905f8c8-50a5-44fe-9c03-eee80b708c49",
   "metadata": {},
   "outputs": [],
   "source": []
  }
 ],
 "metadata": {
  "kernelspec": {
   "display_name": "R",
   "language": "R",
   "name": "ir"
  },
  "language_info": {
   "codemirror_mode": "r",
   "file_extension": ".r",
   "mimetype": "text/x-r-source",
   "name": "R",
   "pygments_lexer": "r",
   "version": "4.3.3"
  }
 },
 "nbformat": 4,
 "nbformat_minor": 5
}
